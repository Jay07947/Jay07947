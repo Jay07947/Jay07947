{
 "cells": [
  {
   "cell_type": "code",
   "execution_count": 14,
   "metadata": {},
   "outputs": [
    {
     "name": "stdout",
     "output_type": "stream",
     "text": [
      "<class 'dict'>\n",
      "{'adult': False, 'backdrop_path': '/hsWGeeLA5heZP8RC8yNbdns7k1I.jpg', 'belongs_to_collection': None, 'budget': 0, 'genres': [{'id': 99, 'name': 'Documentary'}], 'homepage': '', 'id': 501, 'imdb_id': 'tt0427312', 'original_language': 'en', 'original_title': 'Grizzly Man', 'overview': 'Werner Herzog\\'s documentary film about the \"Grizzly Man\" Timothy Treadwell and what the thirteen summers in a National Park in Alaska were like in one man\\'s attempt to protect the grizzly bears. The film is full of unique images and a look into the spirit of a man who sacrificed himself for nature.', 'popularity': 10.705, 'poster_path': '/zuZWpcuye25rpsiZ4XzsAvmLDHG.jpg', 'production_companies': [{'id': 274, 'logo_path': None, 'name': 'Discovery Docs', 'origin_country': ''}], 'production_countries': [{'iso_3166_1': 'US', 'name': 'United States of America'}], 'release_date': '2005-08-12', 'revenue': 0, 'runtime': 103, 'spoken_languages': [{'english_name': 'English', 'iso_639_1': 'en', 'name': 'English'}], 'status': 'Released', 'tagline': 'In nature, there are boundaries. One man spent the last 13 years of his life crossing them.', 'title': 'Grizzly Man', 'video': False, 'vote_average': 7.5, 'vote_count': 491}\n",
      "<class 'dict'>\n",
      "{'adult': False, 'backdrop_path': '/zBbiWRmuulFQU12ApzzSe038fYa.jpg', 'belongs_to_collection': None, 'budget': 0, 'genres': [{'id': 18, 'name': 'Drama'}, {'id': 53, 'name': 'Thriller'}, {'id': 10752, 'name': 'War'}], 'homepage': '', 'id': 502, 'imdb_id': 'tt0058083', 'original_language': 'en', 'original_title': 'Fail Safe', 'overview': 'Because of a technical defect an American bomber team mistakenly orders the destruction of Moscow. The President of the United States has but little time to prevent an atomic catastrophe from occurring.', 'popularity': 8.552, 'poster_path': '/qrsj5hort5xkLOKw9NyraGMnlVP.jpg', 'production_companies': [{'id': 5, 'logo_path': '/71BqEFAF4V3qjjMPCpLuyJFB9A.png', 'name': 'Columbia Pictures', 'origin_country': 'US'}], 'production_countries': [{'iso_3166_1': 'US', 'name': 'United States of America'}], 'release_date': '1964-10-07', 'revenue': 0, 'runtime': 112, 'spoken_languages': [{'english_name': 'English', 'iso_639_1': 'en', 'name': 'English'}, {'english_name': 'Russian', 'iso_639_1': 'ru', 'name': 'Pусский'}], 'status': 'Released', 'tagline': 'It will have you sitting on the brink of eternity!', 'title': 'Fail Safe', 'video': False, 'vote_average': 7.8, 'vote_count': 186}\n",
      "<class 'dict'>\n",
      "{'adult': False, 'backdrop_path': '/qMPqiTovXVvyLr8GQJkugaD2Imt.jpg', 'belongs_to_collection': None, 'budget': 160000000, 'genres': [{'id': 12, 'name': 'Adventure'}, {'id': 28, 'name': 'Action'}, {'id': 18, 'name': 'Drama'}, {'id': 53, 'name': 'Thriller'}], 'homepage': 'http://www2.warnerbros.com/poseidon/', 'id': 503, 'imdb_id': 'tt0409182', 'original_language': 'en', 'original_title': 'Poseidon', 'overview': 'A packed cruise ship traveling the Atlantic is hit and overturned by a massive wave, compelling the passengers to begin a dramatic fight for their lives.', 'popularity': 18.803, 'poster_path': '/cCx2Ead8KoZhHofsAAr7tyrjfDo.jpg', 'production_companies': [{'id': 449, 'logo_path': None, 'name': 'Virtual Studios', 'origin_country': 'US'}, {'id': 18990, 'logo_path': None, 'name': 'Radiant Productions', 'origin_country': ''}, {'id': 1633, 'logo_path': None, 'name': 'Next Entertainment', 'origin_country': ''}, {'id': 14024, 'logo_path': None, 'name': 'Irwin Allen Productions', 'origin_country': ''}, {'id': 19943, 'logo_path': None, 'name': 'Synthesis Entertainment', 'origin_country': ''}, {'id': 17, 'logo_path': '/s1y7CTv6YHe87YUGOq6SRB6DmO7.png', 'name': 'Warner Bros. Entertainment', 'origin_country': 'US'}], 'production_countries': [{'iso_3166_1': 'US', 'name': 'United States of America'}], 'release_date': '2006-05-10', 'revenue': 181674817, 'runtime': 99, 'spoken_languages': [{'english_name': 'English', 'iso_639_1': 'en', 'name': 'English'}, {'english_name': 'Spanish', 'iso_639_1': 'es', 'name': 'Español'}], 'status': 'Released', 'tagline': 'Mayday', 'title': 'Poseidon', 'video': False, 'vote_average': 5.8, 'vote_count': 1414}\n",
      "<class 'dict'>\n",
      "{'adult': False, 'backdrop_path': '/awQwyN5Qau8HsBfCi1hI7nmFPOa.jpg', 'belongs_to_collection': None, 'budget': 8000000, 'genres': [{'id': 80, 'name': 'Crime'}, {'id': 18, 'name': 'Drama'}], 'homepage': '', 'id': 504, 'imdb_id': 'tt0340855', 'original_language': 'en', 'original_title': 'Monster', 'overview': \"An emotionally scarred highway drifter shoots a sadistic trick who rapes her, and ultimately becomes America's first female serial killer.\", 'popularity': 13.594, 'poster_path': '/aevmNtJCNG4ZlfEeEGZ79frMUes.jpg', 'production_companies': [{'id': 28, 'logo_path': None, 'name': 'Newmarket Films', 'origin_country': 'US'}, {'id': 2226, 'logo_path': None, 'name': 'Media 8 Entertainment', 'origin_country': ''}, {'id': 25433, 'logo_path': None, 'name': 'DEJ Productions', 'origin_country': ''}, {'id': 103676, 'logo_path': None, 'name': 'K/W Productions', 'origin_country': ''}, {'id': 3574, 'logo_path': '/j3iU6FoWplGPoO1Vxn8fFHX4VPE.png', 'name': 'Denver and Delilah Productions', 'origin_country': 'US'}, {'id': 3801, 'logo_path': None, 'name': 'VIP 2 Medienfonds', 'origin_country': ''}, {'id': 10828, 'logo_path': None, 'name': 'MDP Worldwide', 'origin_country': ''}], 'production_countries': [{'iso_3166_1': 'US', 'name': 'United States of America'}], 'release_date': '2003-12-24', 'revenue': 60378584, 'runtime': 110, 'spoken_languages': [{'english_name': 'English', 'iso_639_1': 'en', 'name': 'English'}], 'status': 'Released', 'tagline': 'The first female serial killer of America', 'title': 'Monster', 'video': False, 'vote_average': 7.2, 'vote_count': 1393}\n",
      "<class 'dict'>\n",
      "{'adult': False, 'backdrop_path': '/v7baGyne7CsLxnM2maMwIxKZdVF.jpg', 'belongs_to_collection': None, 'budget': 20000000, 'genres': [{'id': 80, 'name': 'Crime'}, {'id': 18, 'name': 'Drama'}], 'homepage': '', 'id': 505, 'imdb_id': 'tt0097626', 'original_language': 'en', 'original_title': 'Johnny Handsome', 'overview': 'A career criminal who has been deformed since birth is given a new face by a kindly doctor and paroled from prison. It appears that he has gone straight, but he is really planning his revenge on the man who killed his mentor and sent him to prison.', 'popularity': 9.851, 'poster_path': '/hdEIkpL17rvfZH0l34FJ8H9LAa.jpg', 'production_companies': [{'id': 276, 'logo_path': None, 'name': 'Guber/Peters Company', 'origin_country': ''}, {'id': 277, 'logo_path': None, 'name': 'Roven Productions', 'origin_country': ''}, {'id': 275, 'logo_path': '/2MxNWlN5b3UXt1OfmznsWEQzFwq.png', 'name': 'Carolco Pictures', 'origin_country': 'US'}], 'production_countries': [{'iso_3166_1': 'US', 'name': 'United States of America'}], 'release_date': '1989-09-12', 'revenue': 7237794, 'runtime': 94, 'spoken_languages': [{'english_name': 'English', 'iso_639_1': 'en', 'name': 'English'}], 'status': 'Released', 'tagline': \"They changed his looks, his life and his future... but they couldn't change his past .\", 'title': 'Johnny Handsome', 'video': False, 'vote_average': 6.3, 'vote_count': 131}\n",
      "<class 'dict'>\n",
      "{'adult': False, 'backdrop_path': '/p7Om7uhWRSJOAKFNRw6mZpoKjo8.jpg', 'belongs_to_collection': None, 'budget': 2135161, 'genres': [{'id': 80, 'name': 'Crime'}, {'id': 18, 'name': 'Drama'}, {'id': 9648, 'name': 'Mystery'}, {'id': 10749, 'name': 'Romance'}, {'id': 53, 'name': 'Thriller'}], 'homepage': '', 'id': 506, 'imdb_id': 'tt0058329', 'original_language': 'en', 'original_title': 'Marnie', 'overview': 'Marnie is a thief, a liar, and a cheat. When her new boss, Mark Rutland, catches on to her routine kleptomania, she finds herself being blackmailed.', 'popularity': 11.496, 'poster_path': '/mwEuBWMJyebtJ1OP4W2jeRcVf3k.jpg', 'production_companies': [{'id': 33, 'logo_path': '/8lvHyhjr8oUKOOy2dKXoALWKdp0.png', 'name': 'Universal Pictures', 'origin_country': 'US'}, {'id': 10715, 'logo_path': None, 'name': 'Alfred J. Hitchcock Productions', 'origin_country': 'US'}], 'production_countries': [{'iso_3166_1': 'US', 'name': 'United States of America'}], 'release_date': '1964-07-17', 'revenue': 7000000, 'runtime': 130, 'spoken_languages': [{'english_name': 'English', 'iso_639_1': 'en', 'name': 'English'}, {'english_name': 'Polish', 'iso_639_1': 'pl', 'name': 'Polski'}, {'english_name': 'Spanish', 'iso_639_1': 'es', 'name': 'Español'}], 'status': 'Released', 'tagline': 'Thief... Liar... Cheat... she was all of these and he knew it!', 'title': 'Marnie', 'video': False, 'vote_average': 7.3, 'vote_count': 650}\n",
      "<class 'dict'>\n",
      "{'adult': False, 'backdrop_path': '/7KGY8HYvwmJwMFMy0hFqp7eiycF.jpg', 'belongs_to_collection': None, 'budget': 1500000, 'genres': [{'id': 28, 'name': 'Action'}, {'id': 80, 'name': 'Crime'}, {'id': 18, 'name': 'Drama'}, {'id': 53, 'name': 'Thriller'}], 'homepage': '', 'id': 507, 'imdb_id': 'tt0110265', 'original_language': 'en', 'original_title': 'Killing Zoe', 'overview': 'Zed is an American vault-cracker who travels to Paris to meet up with his old friend Eric. Eric and his gang have planned to raid the only bank in the city which is open on Bastille day. After offering his services, Zed soon finds himself trapped in a situation beyond his control when heroin abuse, poor planning and a call-girl named Zoe all conspire to turn the robbery into a very bloody siege.', 'popularity': 8.411, 'poster_path': '/k3UEKMVnkljOlsO5sLmz87YGlaG.jpg', 'production_companies': [{'id': 285, 'logo_path': None, 'name': 'Live Entertainment', 'origin_country': ''}], 'production_countries': [{'iso_3166_1': 'FR', 'name': 'France'}, {'iso_3166_1': 'US', 'name': 'United States of America'}], 'release_date': '1993-10-01', 'revenue': 418961, 'runtime': 96, 'spoken_languages': [{'english_name': 'English', 'iso_639_1': 'en', 'name': 'English'}, {'english_name': 'French', 'iso_639_1': 'fr', 'name': 'Français'}], 'status': 'Released', 'tagline': '', 'title': 'Killing Zoe', 'video': False, 'vote_average': 6.3, 'vote_count': 212}\n",
      "<class 'dict'>\n",
      "{'adult': False, 'backdrop_path': '/6xrA9tMvpb3cnktNH7voJ62S41N.jpg', 'belongs_to_collection': None, 'budget': 40000000, 'genres': [{'id': 35, 'name': 'Comedy'}, {'id': 10749, 'name': 'Romance'}, {'id': 18, 'name': 'Drama'}], 'homepage': 'http://www.loveactually.com/', 'id': 508, 'imdb_id': 'tt0314331', 'original_language': 'en', 'original_title': 'Love Actually', 'overview': 'Follows seemingly unrelated people as their lives begin to intertwine while they fall in – and out – of love. Affections languish and develop as Christmas draws near.', 'popularity': 37.222, 'poster_path': '/7QPeVsr9rcFU9Gl90yg0gTOTpVv.jpg', 'production_companies': [{'id': 10163, 'logo_path': '/16KWBMmfPX0aJzDExDrPxSLj0Pg.png', 'name': 'Working Title Films', 'origin_country': 'GB'}, {'id': 284, 'logo_path': None, 'name': 'DNA Films', 'origin_country': 'GB'}, {'id': 33, 'logo_path': '/8lvHyhjr8oUKOOy2dKXoALWKdp0.png', 'name': 'Universal Pictures', 'origin_country': 'US'}, {'id': 694, 'logo_path': '/5LEHONGkZBIoWvp1ygHOF8iyi1M.png', 'name': 'StudioCanal', 'origin_country': 'FR'}], 'production_countries': [{'iso_3166_1': 'GB', 'name': 'United Kingdom'}, {'iso_3166_1': 'US', 'name': 'United States of America'}], 'release_date': '2003-09-07', 'revenue': 244931766, 'runtime': 135, 'spoken_languages': [{'english_name': 'English', 'iso_639_1': 'en', 'name': 'English'}, {'english_name': 'French', 'iso_639_1': 'fr', 'name': 'Français'}, {'english_name': 'Portuguese', 'iso_639_1': 'pt', 'name': 'Português'}], 'status': 'Released', 'tagline': 'Love actually is all around.', 'title': 'Love Actually', 'video': False, 'vote_average': 7.1, 'vote_count': 4548}\n",
      "<class 'dict'>\n",
      "{'adult': False, 'backdrop_path': '/incigEAw6Dekpk7BeFzb3BYcmCY.jpg', 'belongs_to_collection': None, 'budget': 42000000, 'genres': [{'id': 10749, 'name': 'Romance'}, {'id': 35, 'name': 'Comedy'}, {'id': 18, 'name': 'Drama'}], 'homepage': 'http://www.notting-hill.com/', 'id': 509, 'imdb_id': 'tt0125439', 'original_language': 'en', 'original_title': 'Notting Hill', 'overview': 'William Thacker is a London bookstore owner whose humdrum existence is thrown into romantic turmoil when famous American actress Anna Scott appears in his shop. A chance encounter over spilled orange juice leads to a kiss that blossoms into a full-blown affair. As the average bloke and glamorous movie star draw closer and closer together, they struggle to reconcile their radically different lifestyles in the name of love.', 'popularity': 19.178, 'poster_path': '/cBpef6K40Su2CcBb3c18WdwRFCL.jpg', 'production_companies': [{'id': 283, 'logo_path': None, 'name': 'Notting Hill Pictures', 'origin_country': ''}, {'id': 10163, 'logo_path': '/16KWBMmfPX0aJzDExDrPxSLj0Pg.png', 'name': 'Working Title Films', 'origin_country': 'GB'}, {'id': 282, 'logo_path': None, 'name': 'Bookshop Productions', 'origin_country': ''}, {'id': 1382, 'logo_path': '/sOg7LGESPH5vCTOIdbMhLuypoLL.png', 'name': 'PolyGram Filmed Entertainment', 'origin_country': 'US'}, {'id': 33, 'logo_path': '/8lvHyhjr8oUKOOy2dKXoALWKdp0.png', 'name': 'Universal Pictures', 'origin_country': 'US'}], 'production_countries': [{'iso_3166_1': 'GB', 'name': 'United Kingdom'}, {'iso_3166_1': 'US', 'name': 'United States of America'}], 'release_date': '1999-05-13', 'revenue': 363889678, 'runtime': 124, 'spoken_languages': [{'english_name': 'Spanish', 'iso_639_1': 'es', 'name': 'Español'}, {'english_name': 'English', 'iso_639_1': 'en', 'name': 'English'}], 'status': 'Released', 'tagline': 'Can the most famous film star in the world fall for the man on the street?', 'title': 'Notting Hill', 'video': False, 'vote_average': 7.2, 'vote_count': 4067}\n"
     ]
    }
   ],
   "source": [
    "# call API\n",
    "# 577922-tenet, 724989-hard-kill, 671-harry-potter-and-the-philosopher-s-stone, 597-titanic\n",
    "import requests\n",
    "import json\n",
    "\n",
    "# API 지정\n",
    "apikey = \"62b27ef2609d9be3bb5f67aa58b41357\"\n",
    "\n",
    "# 정보를 알고 싶은 영화 리스트 만들기\n",
    "movie_list = range(501, 510)\n",
    "\n",
    "# API 지정\n",
    "api = \"https://api.themoviedb.org/3/movie/{movies}?api_key={key}\"\n",
    "\n",
    "# string.format_map() 매핑용 클래스 만들기\n",
    "class Default(dict):\n",
    "    def __missing__(self, key):\n",
    "        return key\n",
    "\n",
    "# 각 영화의 정보 추출하기\n",
    "for name in movie_list:\n",
    "    try:\n",
    "        # API의 URL 구성하기\n",
    "        url = api.format_map(Default(movies=name, key=apikey))\n",
    "            # print(url)  # 데이터 확인\n",
    "        # API에 요청을 보내 데이터 추출하기\n",
    "        r = requests.get(url)  # json 형태의 데이터가 나온다.\n",
    "            # print(type(r))  # <class 'requests.models.Response'>\n",
    "        # 결과를 JSON 형식으로 변환하기\n",
    "        data = json.loads(r.text)\n",
    "        print(type(data))  #<class 'dict'>\n",
    "        print(data)  # 데이터 확인\n",
    "#         print(\"+ 영화제목 =\", data[\"title\"])\n",
    "#         print(\"| 장르 =\", data[\"genres\"][0][\"name\"])\n",
    "#         print(\"| 원본 제목 =\", data[\"original_title\"])\n",
    "#         print(\"| 개요 =\", data[\"overview\"])\n",
    "#         print(\"| 유명도 =\", data[\"popularity\"])\n",
    "#         print(\"| 제작사 =\", data[\"production_companies\"][0][\"name\"])\n",
    "#         print(\"\")\n",
    "    except:\n",
    "        print(\"영화번호 \" + str(name) + \" 에 데이터 없음\")"
   ]
  },
  {
   "cell_type": "code",
   "execution_count": null,
   "metadata": {},
   "outputs": [],
   "source": []
  }
 ],
 "metadata": {
  "kernelspec": {
   "display_name": "Python 3",
   "language": "python",
   "name": "python3"
  },
  "language_info": {
   "codemirror_mode": {
    "name": "ipython",
    "version": 3
   },
   "file_extension": ".py",
   "mimetype": "text/x-python",
   "name": "python",
   "nbconvert_exporter": "python",
   "pygments_lexer": "ipython3",
   "version": "3.8.3"
  }
 },
 "nbformat": 4,
 "nbformat_minor": 4
}
