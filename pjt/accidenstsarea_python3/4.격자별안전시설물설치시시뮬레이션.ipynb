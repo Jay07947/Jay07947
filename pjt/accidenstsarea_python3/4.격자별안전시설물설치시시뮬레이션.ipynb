{
 "metadata": {
  "language_info": {
   "codemirror_mode": {
    "name": "ipython",
    "version": 3
   },
   "file_extension": ".py",
   "mimetype": "text/x-python",
   "name": "python",
   "nbconvert_exporter": "python",
   "pygments_lexer": "ipython3",
   "version": "3.8.3-final"
  },
  "orig_nbformat": 2,
  "kernelspec": {
   "name": "python3",
   "display_name": "Python 3",
   "language": "python"
  }
 },
 "nbformat": 4,
 "nbformat_minor": 2,
 "cells": [
  {
   "cell_type": "code",
   "execution_count": 2,
   "metadata": {},
   "outputs": [],
   "source": [
    "import numpy as np\n",
    "import pandas as pd\n",
    "import json\n",
    "import sklearn\n",
    "from sklearn import utils, metrics\n",
    "from sklearn.ensemble import RandomForestClassifier\n",
    "from sklearn.neural_network import MLPClassifier\n",
    "import joblib\n",
    "import math\n"
   ]
  },
  {
   "cell_type": "code",
   "execution_count": 3,
   "metadata": {},
   "outputs": [
    {
     "output_type": "execute_result",
     "data": {
      "text/plain": [
       "   id  acc_sum        lon1       lat1        lon2       lat2  cctv  cross  \\\n",
       "0   0        0  126.994216  37.174182  126.995336  37.175089     0      0   \n",
       "1   1        0  126.994210  37.175084  126.995330  37.175990     0      0   \n",
       "2   2        0  126.994204  37.175985  126.995324  37.176891     0      0   \n",
       "3   3        0  126.994198  37.176887  126.995318  37.177793     0      0   \n",
       "4   4        0  126.995342  37.174187  126.996463  37.175093     0      0   \n",
       "\n",
       "   speedBump  parking  ...  youth  baby  build       latM        lonM  \\\n",
       "0          0        0  ...    0.0   0.0    0.0  37.173729  126.994776   \n",
       "1          0        0  ...    0.0   0.0    0.0  37.174631  126.994770   \n",
       "2          0        0  ...    0.0   0.0    0.0  37.175532  126.994764   \n",
       "3          0        0  ...    0.0   0.0    0.0  37.176433  126.994758   \n",
       "4          0        0  ...    0.0   0.0    0.0  37.173734  126.995902   \n",
       "\n",
       "   youchiwon  elementry  academy  gym  school_zone  \n",
       "0          0          0        0    0            0  \n",
       "1          0          0        0    0            0  \n",
       "2          0          0        0    0            0  \n",
       "3          0          0        0    0            0  \n",
       "4          0          0        0    0            0  \n",
       "\n",
       "[5 rows x 21 columns]"
      ],
      "text/html": "<div>\n<style scoped>\n    .dataframe tbody tr th:only-of-type {\n        vertical-align: middle;\n    }\n\n    .dataframe tbody tr th {\n        vertical-align: top;\n    }\n\n    .dataframe thead th {\n        text-align: right;\n    }\n</style>\n<table border=\"1\" class=\"dataframe\">\n  <thead>\n    <tr style=\"text-align: right;\">\n      <th></th>\n      <th>id</th>\n      <th>acc_sum</th>\n      <th>lon1</th>\n      <th>lat1</th>\n      <th>lon2</th>\n      <th>lat2</th>\n      <th>cctv</th>\n      <th>cross</th>\n      <th>speedBump</th>\n      <th>parking</th>\n      <th>...</th>\n      <th>youth</th>\n      <th>baby</th>\n      <th>build</th>\n      <th>latM</th>\n      <th>lonM</th>\n      <th>youchiwon</th>\n      <th>elementry</th>\n      <th>academy</th>\n      <th>gym</th>\n      <th>school_zone</th>\n    </tr>\n  </thead>\n  <tbody>\n    <tr>\n      <th>0</th>\n      <td>0</td>\n      <td>0</td>\n      <td>126.994216</td>\n      <td>37.174182</td>\n      <td>126.995336</td>\n      <td>37.175089</td>\n      <td>0</td>\n      <td>0</td>\n      <td>0</td>\n      <td>0</td>\n      <td>...</td>\n      <td>0.0</td>\n      <td>0.0</td>\n      <td>0.0</td>\n      <td>37.173729</td>\n      <td>126.994776</td>\n      <td>0</td>\n      <td>0</td>\n      <td>0</td>\n      <td>0</td>\n      <td>0</td>\n    </tr>\n    <tr>\n      <th>1</th>\n      <td>1</td>\n      <td>0</td>\n      <td>126.994210</td>\n      <td>37.175084</td>\n      <td>126.995330</td>\n      <td>37.175990</td>\n      <td>0</td>\n      <td>0</td>\n      <td>0</td>\n      <td>0</td>\n      <td>...</td>\n      <td>0.0</td>\n      <td>0.0</td>\n      <td>0.0</td>\n      <td>37.174631</td>\n      <td>126.994770</td>\n      <td>0</td>\n      <td>0</td>\n      <td>0</td>\n      <td>0</td>\n      <td>0</td>\n    </tr>\n    <tr>\n      <th>2</th>\n      <td>2</td>\n      <td>0</td>\n      <td>126.994204</td>\n      <td>37.175985</td>\n      <td>126.995324</td>\n      <td>37.176891</td>\n      <td>0</td>\n      <td>0</td>\n      <td>0</td>\n      <td>0</td>\n      <td>...</td>\n      <td>0.0</td>\n      <td>0.0</td>\n      <td>0.0</td>\n      <td>37.175532</td>\n      <td>126.994764</td>\n      <td>0</td>\n      <td>0</td>\n      <td>0</td>\n      <td>0</td>\n      <td>0</td>\n    </tr>\n    <tr>\n      <th>3</th>\n      <td>3</td>\n      <td>0</td>\n      <td>126.994198</td>\n      <td>37.176887</td>\n      <td>126.995318</td>\n      <td>37.177793</td>\n      <td>0</td>\n      <td>0</td>\n      <td>0</td>\n      <td>0</td>\n      <td>...</td>\n      <td>0.0</td>\n      <td>0.0</td>\n      <td>0.0</td>\n      <td>37.176433</td>\n      <td>126.994758</td>\n      <td>0</td>\n      <td>0</td>\n      <td>0</td>\n      <td>0</td>\n      <td>0</td>\n    </tr>\n    <tr>\n      <th>4</th>\n      <td>4</td>\n      <td>0</td>\n      <td>126.995342</td>\n      <td>37.174187</td>\n      <td>126.996463</td>\n      <td>37.175093</td>\n      <td>0</td>\n      <td>0</td>\n      <td>0</td>\n      <td>0</td>\n      <td>...</td>\n      <td>0.0</td>\n      <td>0.0</td>\n      <td>0.0</td>\n      <td>37.173734</td>\n      <td>126.995902</td>\n      <td>0</td>\n      <td>0</td>\n      <td>0</td>\n      <td>0</td>\n      <td>0</td>\n    </tr>\n  </tbody>\n</table>\n<p>5 rows × 21 columns</p>\n</div>"
     },
     "metadata": {},
     "execution_count": 3
    }
   ],
   "source": [
    "# 1. 분석 데이터 준비 \n",
    "org_df =pd.read_csv('ETL_DATA/OsanDataset.csv')\n",
    "org_df.head()"
   ]
  },
  {
   "cell_type": "code",
   "execution_count": 25,
   "metadata": {},
   "outputs": [],
   "source": [
    "# 2. 위험지역 예측 함수\n",
    "\n",
    "def predictRisk(areaID) :\n",
    "    # id와 맞는 지역 데이터 불러오기\n",
    "    orgData = org_df.iloc[areaID, :] # <class 'pandas.core.series.Series'>\n",
    "\n",
    "    index = ['youth','baby','build','youchiwon','elementry','gym','academy','school_zone','cctv','cross','parking','speedBump','trafficLight']\n",
    "    data = orgData[['youth','baby','build','youchiwon','elementry','gym','academy','school_zone','cctv','cross','parking','speedBump','trafficLight']]\n",
    "    #print(data)\n",
    "    \n",
    "    # 모델에 넣을 데이터셋 리스트로 변환\n",
    "    datalist = data.tolist()\n",
    "    #print(datalist)\n",
    "    \n",
    "    # 모델 불러오기\n",
    "    clf = joblib.load('OsanPredict_RF.dmp')\n",
    "    print(type(clf))\n",
    "    print('모델로딩성공')\n",
    "\n",
    "    # 결과 및 확률로 격자별 위험등급 부여\n",
    "    datalist = [datalist]\n",
    "\n",
    "    result = clf.predict(datalist)[0]\n",
    "\n",
    "    per = round(clf.predict_proba(datalist)[0][0]*100,2)\n",
    "\n",
    "    # 사고가 나지 않을 확률을 기반으로 등급 부여   \n",
    "    if result == 0:\n",
    "        if per >= 90 :\n",
    "            grade = 'N'\n",
    "        elif per >= 70 :\n",
    "            grade = 'D'\n",
    "        elif per >= 60 :\n",
    "            grade = 'C'\n",
    "        elif per >= 55 :\n",
    "            grade = 'B'\n",
    "        else :\n",
    "            grade = 'A'\n",
    "    else :\n",
    "        if 100 - per >= 90 :\n",
    "            grade = 'N'\n",
    "        elif 100 - per >= 70 :\n",
    "            grade = 'D'\n",
    "        elif 100 - per >= 60 :\n",
    "            grade = 'C'\n",
    "        elif 100 - per >= 55 :\n",
    "            grade = 'B'\n",
    "        else :\n",
    "            grade = 'A'\n",
    "\n",
    "    print('*** 시뮬레이션 결과 ***')\n",
    "    print('*AreaID : '+str(areaID))\n",
    "    print('*위치 : '+ str(orgData['lat1']) +','+ str(orgData['lon1']) )\n",
    "    print('*위험등급 : '+str(grade))\n",
    "    print('*해당지역 세부 데이터 : ')\n",
    "    print(index)\n",
    "    print(datalist)\n",
    "\n"
   ]
  },
  {
   "cell_type": "code",
   "execution_count": 26,
   "metadata": {},
   "outputs": [],
   "source": [
    "# 3. 안전시설물 설치 시 시뮬레이션 함수 \n",
    "def predictSafe(areaID,school_zone,cctv,cross,parking,speedBump,trafficLight) :\n",
    "  \n",
    "    # 모델에 넣을 데이터셋 리스트로 변환\n",
    "    # id와 맞는 지역 데이터 불러오기\n",
    "    orgData = org_df.iloc[areaID, :] # <class 'pandas.core.series.Series'>\n",
    "\n",
    "    data1 = orgData[['youth','baby','build','youchiwon','elementry','gym','academy']]\n",
    "    data2 = [school_zone,cctv,cross,parking,speedBump,trafficLight]\n",
    "\n",
    "    index = ['youth','baby','build','youchiwon','elementry','gym','academy','school_zone','cctv','cross','parking','speedBump','trafficLight']\n",
    "    data1 = data1.tolist()\n",
    "    data3 = data1 + data2\n",
    "    # print(data1)\n",
    "    # print(data2)\n",
    "    # print(data3)\n",
    "    # 모델 불러오기\n",
    "    clf = joblib.load('OsanPredict_RF.dmp')\n",
    "    print(type(clf))\n",
    "    print('모델로딩성공')\n",
    "\n",
    "    # 결과 및 확률로 격자별 위험등급 부여\n",
    "    datalist = [data3]\n",
    "\n",
    "    result = clf.predict(datalist)[0]\n",
    "\n",
    "    per = round(clf.predict_proba(datalist)[0][0]*100,2)\n",
    "\n",
    "    # 사고가 나지 않을 확률을 기반으로 등급 부여   \n",
    "    if result == 0:\n",
    "        if per >= 90 :\n",
    "            grade = 'N'\n",
    "        elif per >= 70 :\n",
    "            grade = 'D'\n",
    "        elif per >= 60 :\n",
    "            grade = 'C'\n",
    "        elif per >= 55 :\n",
    "            grade = 'B'\n",
    "        else :\n",
    "            grade = 'A'\n",
    "    else :\n",
    "        if 100 - per >= 90 :\n",
    "            grade = 'N'\n",
    "        elif 100 - per >= 70 :\n",
    "            grade = 'D'\n",
    "        elif 100 - per >= 60 :\n",
    "            grade = 'C'\n",
    "        elif 100 - per >= 55 :\n",
    "            grade = 'B'\n",
    "        else :\n",
    "            grade = 'A'\n",
    "\n",
    "    print('*** 시뮬레이션 결과 ***')\n",
    "    print('*AreaID : '+str(areaID))\n",
    "    print('*위치 : '+ str(orgData['lat1']) +','+ str(orgData['lon1']) )\n",
    "    print('*위험등급 : '+str(grade))\n",
    "    print('*해당지역 세부 데이터 : ')\n",
    "    print(index)\n",
    "    print(data3)\n"
   ]
  },
  {
   "cell_type": "code",
   "execution_count": 27,
   "metadata": {},
   "outputs": [
    {
     "output_type": "stream",
     "name": "stdout",
     "text": [
      "<class 'sklearn.ensemble._forest.RandomForestClassifier'>\n모델로딩성공\n*** 시뮬레이션 결과 ***\n*AreaID : 3828\n*위치 : 37.15287138,127.0765663\n*위험등급 : A\n*해당지역 세부 데이터 : \n['youth', 'baby', 'build', 'youchiwon', 'elementry', 'gym', 'academy', 'school_zone', 'cctv', 'cross', 'parking', 'speedBump', 'trafficLight']\n[[0.0, 0.0, 925.9, 20.0, 1.0, 4.0, 8.0, 0.0, 0.0, 4.0, 23.0, 0.0, 8.0]]\n"
     ]
    }
   ],
   "source": [
    "predictRisk(3828)"
   ]
  },
  {
   "cell_type": "code",
   "execution_count": 28,
   "metadata": {},
   "outputs": [
    {
     "output_type": "stream",
     "name": "stdout",
     "text": [
      "<class 'sklearn.ensemble._forest.RandomForestClassifier'>\n모델로딩성공\n*** 시뮬레이션 결과 ***\n*AreaID : 3828\n*위치 : 37.15287138,127.0765663\n*위험등급 : B\n*해당지역 세부 데이터 : \n['youth', 'baby', 'build', 'youchiwon', 'elementry', 'gym', 'academy', 'school_zone', 'cctv', 'cross', 'parking', 'speedBump', 'trafficLight']\n[0.0, 0.0, 925.9, 20.0, 1.0, 4.0, 8.0, 0, 2, 4, 23, 1, 0]\n"
     ]
    }
   ],
   "source": [
    "#predictSafe(areaID,school_zone,cctv,cross,parking,speedBump,trafficLight)\n",
    "predictSafe(3828,0,2,4,23,1,0) "
   ]
  },
  {
   "cell_type": "code",
   "execution_count": 29,
   "metadata": {},
   "outputs": [
    {
     "output_type": "stream",
     "name": "stdout",
     "text": [
      "<class 'sklearn.ensemble._forest.RandomForestClassifier'>\n모델로딩성공\n*** 시뮬레이션 결과 ***\n*AreaID : 3828\n*위치 : 37.15287138,127.0765663\n*위험등급 : C\n*해당지역 세부 데이터 : \n['youth', 'baby', 'build', 'youchiwon', 'elementry', 'gym', 'academy', 'school_zone', 'cctv', 'cross', 'parking', 'speedBump', 'trafficLight']\n[0.0, 0.0, 925.9, 20.0, 1.0, 4.0, 8.0, 1, 2, 4, 23, 1, 0]\n"
     ]
    }
   ],
   "source": [
    "predictSafe(3828,1,2,4,23,1,0) "
   ]
  },
  {
   "cell_type": "code",
   "execution_count": null,
   "metadata": {},
   "outputs": [],
   "source": []
  }
 ]
}